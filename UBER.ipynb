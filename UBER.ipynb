{
  "nbformat": 4,
  "nbformat_minor": 0,
  "metadata": {
    "colab": {
      "name": "UBER.ipynb",
      "provenance": [],
      "collapsed_sections": [],
      "authorship_tag": "ABX9TyPnJLRa4jCvwZ38955IDfn+",
      "include_colab_link": true
    },
    "kernelspec": {
      "name": "python3",
      "display_name": "Python 3"
    },
    "language_info": {
      "name": "python"
    }
  },
  "cells": [
    {
      "cell_type": "markdown",
      "metadata": {
        "id": "view-in-github",
        "colab_type": "text"
      },
      "source": [
        "<a href=\"https://colab.research.google.com/github/namratawadekar42/uberprediction/blob/main/UBER.ipynb\" target=\"_parent\"><img src=\"https://colab.research.google.com/assets/colab-badge.svg\" alt=\"Open In Colab\"/></a>"
      ]
    },
    {
      "cell_type": "code",
      "execution_count": 1,
      "metadata": {
        "colab": {
          "base_uri": "https://localhost:8080/",
          "height": 896
        },
        "id": "IrQkiIbKRhaI",
        "outputId": "e8673728-805e-46a6-8d66-4cd7fec1747f"
      },
      "outputs": [
        {
          "output_type": "execute_result",
          "data": {
            "text/plain": [
              "    Priceperweek  Population  Monthlyincome  Averageparkingpermonth  \\\n",
              "0             15     1800000           5800                      50   \n",
              "1             15     1790000           6200                      50   \n",
              "2             15     1780000           6400                      60   \n",
              "3             25     1778000           6500                      60   \n",
              "4             25     1750000           6550                      60   \n",
              "5             25     1740000           6580                      70   \n",
              "6             25     1725000           8200                      75   \n",
              "7             30     1725000           8600                      75   \n",
              "8             30     1720000           8800                      75   \n",
              "9             30     1705000           9200                      80   \n",
              "10            30     1710000           9630                      80   \n",
              "11            40     1700000          10570                      80   \n",
              "12            40     1695000          11330                      85   \n",
              "13            40     1695000          11600                     100   \n",
              "14            40     1690000          11800                     105   \n",
              "15            40     1630000          11830                     105   \n",
              "16            65     1640000          12650                     105   \n",
              "17           102     1635000          13000                     110   \n",
              "18            75     1630000          13224                     125   \n",
              "19            75     1620000          13766                     130   \n",
              "20            75     1615000          14010                     150   \n",
              "21            80     1605000          14468                     155   \n",
              "22            86     1590000          15000                     165   \n",
              "23            98     1595000          15200                     175   \n",
              "24            87     1590000          15600                     175   \n",
              "25            77     1600000          16000                     190   \n",
              "26            63     1610000          16200                     200   \n",
              "\n",
              "    Numberofweeklyriders  \n",
              "0                 192000  \n",
              "1                 190400  \n",
              "2                 191200  \n",
              "3                 177600  \n",
              "4                 176800  \n",
              "5                 178400  \n",
              "6                 180800  \n",
              "7                 175200  \n",
              "8                 174400  \n",
              "9                 173920  \n",
              "10                172800  \n",
              "11                163200  \n",
              "12                161600  \n",
              "13                161600  \n",
              "14                160800  \n",
              "15                159200  \n",
              "16                148800  \n",
              "17                115696  \n",
              "18                147200  \n",
              "19                150400  \n",
              "20                152000  \n",
              "21                136000  \n",
              "22                126240  \n",
              "23                123888  \n",
              "24                126080  \n",
              "25                151680  \n",
              "26                152800  "
            ],
            "text/html": [
              "\n",
              "  <div id=\"df-92d96073-092e-43b1-ba0b-d70b79f14403\">\n",
              "    <div class=\"colab-df-container\">\n",
              "      <div>\n",
              "<style scoped>\n",
              "    .dataframe tbody tr th:only-of-type {\n",
              "        vertical-align: middle;\n",
              "    }\n",
              "\n",
              "    .dataframe tbody tr th {\n",
              "        vertical-align: top;\n",
              "    }\n",
              "\n",
              "    .dataframe thead th {\n",
              "        text-align: right;\n",
              "    }\n",
              "</style>\n",
              "<table border=\"1\" class=\"dataframe\">\n",
              "  <thead>\n",
              "    <tr style=\"text-align: right;\">\n",
              "      <th></th>\n",
              "      <th>Priceperweek</th>\n",
              "      <th>Population</th>\n",
              "      <th>Monthlyincome</th>\n",
              "      <th>Averageparkingpermonth</th>\n",
              "      <th>Numberofweeklyriders</th>\n",
              "    </tr>\n",
              "  </thead>\n",
              "  <tbody>\n",
              "    <tr>\n",
              "      <th>0</th>\n",
              "      <td>15</td>\n",
              "      <td>1800000</td>\n",
              "      <td>5800</td>\n",
              "      <td>50</td>\n",
              "      <td>192000</td>\n",
              "    </tr>\n",
              "    <tr>\n",
              "      <th>1</th>\n",
              "      <td>15</td>\n",
              "      <td>1790000</td>\n",
              "      <td>6200</td>\n",
              "      <td>50</td>\n",
              "      <td>190400</td>\n",
              "    </tr>\n",
              "    <tr>\n",
              "      <th>2</th>\n",
              "      <td>15</td>\n",
              "      <td>1780000</td>\n",
              "      <td>6400</td>\n",
              "      <td>60</td>\n",
              "      <td>191200</td>\n",
              "    </tr>\n",
              "    <tr>\n",
              "      <th>3</th>\n",
              "      <td>25</td>\n",
              "      <td>1778000</td>\n",
              "      <td>6500</td>\n",
              "      <td>60</td>\n",
              "      <td>177600</td>\n",
              "    </tr>\n",
              "    <tr>\n",
              "      <th>4</th>\n",
              "      <td>25</td>\n",
              "      <td>1750000</td>\n",
              "      <td>6550</td>\n",
              "      <td>60</td>\n",
              "      <td>176800</td>\n",
              "    </tr>\n",
              "    <tr>\n",
              "      <th>5</th>\n",
              "      <td>25</td>\n",
              "      <td>1740000</td>\n",
              "      <td>6580</td>\n",
              "      <td>70</td>\n",
              "      <td>178400</td>\n",
              "    </tr>\n",
              "    <tr>\n",
              "      <th>6</th>\n",
              "      <td>25</td>\n",
              "      <td>1725000</td>\n",
              "      <td>8200</td>\n",
              "      <td>75</td>\n",
              "      <td>180800</td>\n",
              "    </tr>\n",
              "    <tr>\n",
              "      <th>7</th>\n",
              "      <td>30</td>\n",
              "      <td>1725000</td>\n",
              "      <td>8600</td>\n",
              "      <td>75</td>\n",
              "      <td>175200</td>\n",
              "    </tr>\n",
              "    <tr>\n",
              "      <th>8</th>\n",
              "      <td>30</td>\n",
              "      <td>1720000</td>\n",
              "      <td>8800</td>\n",
              "      <td>75</td>\n",
              "      <td>174400</td>\n",
              "    </tr>\n",
              "    <tr>\n",
              "      <th>9</th>\n",
              "      <td>30</td>\n",
              "      <td>1705000</td>\n",
              "      <td>9200</td>\n",
              "      <td>80</td>\n",
              "      <td>173920</td>\n",
              "    </tr>\n",
              "    <tr>\n",
              "      <th>10</th>\n",
              "      <td>30</td>\n",
              "      <td>1710000</td>\n",
              "      <td>9630</td>\n",
              "      <td>80</td>\n",
              "      <td>172800</td>\n",
              "    </tr>\n",
              "    <tr>\n",
              "      <th>11</th>\n",
              "      <td>40</td>\n",
              "      <td>1700000</td>\n",
              "      <td>10570</td>\n",
              "      <td>80</td>\n",
              "      <td>163200</td>\n",
              "    </tr>\n",
              "    <tr>\n",
              "      <th>12</th>\n",
              "      <td>40</td>\n",
              "      <td>1695000</td>\n",
              "      <td>11330</td>\n",
              "      <td>85</td>\n",
              "      <td>161600</td>\n",
              "    </tr>\n",
              "    <tr>\n",
              "      <th>13</th>\n",
              "      <td>40</td>\n",
              "      <td>1695000</td>\n",
              "      <td>11600</td>\n",
              "      <td>100</td>\n",
              "      <td>161600</td>\n",
              "    </tr>\n",
              "    <tr>\n",
              "      <th>14</th>\n",
              "      <td>40</td>\n",
              "      <td>1690000</td>\n",
              "      <td>11800</td>\n",
              "      <td>105</td>\n",
              "      <td>160800</td>\n",
              "    </tr>\n",
              "    <tr>\n",
              "      <th>15</th>\n",
              "      <td>40</td>\n",
              "      <td>1630000</td>\n",
              "      <td>11830</td>\n",
              "      <td>105</td>\n",
              "      <td>159200</td>\n",
              "    </tr>\n",
              "    <tr>\n",
              "      <th>16</th>\n",
              "      <td>65</td>\n",
              "      <td>1640000</td>\n",
              "      <td>12650</td>\n",
              "      <td>105</td>\n",
              "      <td>148800</td>\n",
              "    </tr>\n",
              "    <tr>\n",
              "      <th>17</th>\n",
              "      <td>102</td>\n",
              "      <td>1635000</td>\n",
              "      <td>13000</td>\n",
              "      <td>110</td>\n",
              "      <td>115696</td>\n",
              "    </tr>\n",
              "    <tr>\n",
              "      <th>18</th>\n",
              "      <td>75</td>\n",
              "      <td>1630000</td>\n",
              "      <td>13224</td>\n",
              "      <td>125</td>\n",
              "      <td>147200</td>\n",
              "    </tr>\n",
              "    <tr>\n",
              "      <th>19</th>\n",
              "      <td>75</td>\n",
              "      <td>1620000</td>\n",
              "      <td>13766</td>\n",
              "      <td>130</td>\n",
              "      <td>150400</td>\n",
              "    </tr>\n",
              "    <tr>\n",
              "      <th>20</th>\n",
              "      <td>75</td>\n",
              "      <td>1615000</td>\n",
              "      <td>14010</td>\n",
              "      <td>150</td>\n",
              "      <td>152000</td>\n",
              "    </tr>\n",
              "    <tr>\n",
              "      <th>21</th>\n",
              "      <td>80</td>\n",
              "      <td>1605000</td>\n",
              "      <td>14468</td>\n",
              "      <td>155</td>\n",
              "      <td>136000</td>\n",
              "    </tr>\n",
              "    <tr>\n",
              "      <th>22</th>\n",
              "      <td>86</td>\n",
              "      <td>1590000</td>\n",
              "      <td>15000</td>\n",
              "      <td>165</td>\n",
              "      <td>126240</td>\n",
              "    </tr>\n",
              "    <tr>\n",
              "      <th>23</th>\n",
              "      <td>98</td>\n",
              "      <td>1595000</td>\n",
              "      <td>15200</td>\n",
              "      <td>175</td>\n",
              "      <td>123888</td>\n",
              "    </tr>\n",
              "    <tr>\n",
              "      <th>24</th>\n",
              "      <td>87</td>\n",
              "      <td>1590000</td>\n",
              "      <td>15600</td>\n",
              "      <td>175</td>\n",
              "      <td>126080</td>\n",
              "    </tr>\n",
              "    <tr>\n",
              "      <th>25</th>\n",
              "      <td>77</td>\n",
              "      <td>1600000</td>\n",
              "      <td>16000</td>\n",
              "      <td>190</td>\n",
              "      <td>151680</td>\n",
              "    </tr>\n",
              "    <tr>\n",
              "      <th>26</th>\n",
              "      <td>63</td>\n",
              "      <td>1610000</td>\n",
              "      <td>16200</td>\n",
              "      <td>200</td>\n",
              "      <td>152800</td>\n",
              "    </tr>\n",
              "  </tbody>\n",
              "</table>\n",
              "</div>\n",
              "      <button class=\"colab-df-convert\" onclick=\"convertToInteractive('df-92d96073-092e-43b1-ba0b-d70b79f14403')\"\n",
              "              title=\"Convert this dataframe to an interactive table.\"\n",
              "              style=\"display:none;\">\n",
              "        \n",
              "  <svg xmlns=\"http://www.w3.org/2000/svg\" height=\"24px\"viewBox=\"0 0 24 24\"\n",
              "       width=\"24px\">\n",
              "    <path d=\"M0 0h24v24H0V0z\" fill=\"none\"/>\n",
              "    <path d=\"M18.56 5.44l.94 2.06.94-2.06 2.06-.94-2.06-.94-.94-2.06-.94 2.06-2.06.94zm-11 1L8.5 8.5l.94-2.06 2.06-.94-2.06-.94L8.5 2.5l-.94 2.06-2.06.94zm10 10l.94 2.06.94-2.06 2.06-.94-2.06-.94-.94-2.06-.94 2.06-2.06.94z\"/><path d=\"M17.41 7.96l-1.37-1.37c-.4-.4-.92-.59-1.43-.59-.52 0-1.04.2-1.43.59L10.3 9.45l-7.72 7.72c-.78.78-.78 2.05 0 2.83L4 21.41c.39.39.9.59 1.41.59.51 0 1.02-.2 1.41-.59l7.78-7.78 2.81-2.81c.8-.78.8-2.07 0-2.86zM5.41 20L4 18.59l7.72-7.72 1.47 1.35L5.41 20z\"/>\n",
              "  </svg>\n",
              "      </button>\n",
              "      \n",
              "  <style>\n",
              "    .colab-df-container {\n",
              "      display:flex;\n",
              "      flex-wrap:wrap;\n",
              "      gap: 12px;\n",
              "    }\n",
              "\n",
              "    .colab-df-convert {\n",
              "      background-color: #E8F0FE;\n",
              "      border: none;\n",
              "      border-radius: 50%;\n",
              "      cursor: pointer;\n",
              "      display: none;\n",
              "      fill: #1967D2;\n",
              "      height: 32px;\n",
              "      padding: 0 0 0 0;\n",
              "      width: 32px;\n",
              "    }\n",
              "\n",
              "    .colab-df-convert:hover {\n",
              "      background-color: #E2EBFA;\n",
              "      box-shadow: 0px 1px 2px rgba(60, 64, 67, 0.3), 0px 1px 3px 1px rgba(60, 64, 67, 0.15);\n",
              "      fill: #174EA6;\n",
              "    }\n",
              "\n",
              "    [theme=dark] .colab-df-convert {\n",
              "      background-color: #3B4455;\n",
              "      fill: #D2E3FC;\n",
              "    }\n",
              "\n",
              "    [theme=dark] .colab-df-convert:hover {\n",
              "      background-color: #434B5C;\n",
              "      box-shadow: 0px 1px 3px 1px rgba(0, 0, 0, 0.15);\n",
              "      filter: drop-shadow(0px 1px 2px rgba(0, 0, 0, 0.3));\n",
              "      fill: #FFFFFF;\n",
              "    }\n",
              "  </style>\n",
              "\n",
              "      <script>\n",
              "        const buttonEl =\n",
              "          document.querySelector('#df-92d96073-092e-43b1-ba0b-d70b79f14403 button.colab-df-convert');\n",
              "        buttonEl.style.display =\n",
              "          google.colab.kernel.accessAllowed ? 'block' : 'none';\n",
              "\n",
              "        async function convertToInteractive(key) {\n",
              "          const element = document.querySelector('#df-92d96073-092e-43b1-ba0b-d70b79f14403');\n",
              "          const dataTable =\n",
              "            await google.colab.kernel.invokeFunction('convertToInteractive',\n",
              "                                                     [key], {});\n",
              "          if (!dataTable) return;\n",
              "\n",
              "          const docLinkHtml = 'Like what you see? Visit the ' +\n",
              "            '<a target=\"_blank\" href=https://colab.research.google.com/notebooks/data_table.ipynb>data table notebook</a>'\n",
              "            + ' to learn more about interactive tables.';\n",
              "          element.innerHTML = '';\n",
              "          dataTable['output_type'] = 'display_data';\n",
              "          await google.colab.output.renderOutput(dataTable, element);\n",
              "          const docLink = document.createElement('div');\n",
              "          docLink.innerHTML = docLinkHtml;\n",
              "          element.appendChild(docLink);\n",
              "        }\n",
              "      </script>\n",
              "    </div>\n",
              "  </div>\n",
              "  "
            ]
          },
          "metadata": {},
          "execution_count": 1
        }
      ],
      "source": [
        "import pandas as pd\n",
        "import numpy as np\n",
        "df=pd.read_csv(\"https://raw.githubusercontent.com/knowledgeshelfit/uber_rides/master/taxi.csv\")\n",
        "df"
      ]
    },
    {
      "cell_type": "code",
      "source": [
        "df.info()"
      ],
      "metadata": {
        "colab": {
          "base_uri": "https://localhost:8080/"
        },
        "id": "6mG0WbHZR3MC",
        "outputId": "ae447d64-1fa0-47e8-f018-257185ea0c05"
      },
      "execution_count": 2,
      "outputs": [
        {
          "output_type": "stream",
          "name": "stdout",
          "text": [
            "<class 'pandas.core.frame.DataFrame'>\n",
            "RangeIndex: 27 entries, 0 to 26\n",
            "Data columns (total 5 columns):\n",
            " #   Column                  Non-Null Count  Dtype\n",
            "---  ------                  --------------  -----\n",
            " 0   Priceperweek            27 non-null     int64\n",
            " 1   Population              27 non-null     int64\n",
            " 2   Monthlyincome           27 non-null     int64\n",
            " 3   Averageparkingpermonth  27 non-null     int64\n",
            " 4   Numberofweeklyriders    27 non-null     int64\n",
            "dtypes: int64(5)\n",
            "memory usage: 1.2 KB\n"
          ]
        }
      ]
    },
    {
      "cell_type": "code",
      "source": [
        "#input and output\n",
        "x=df.iloc[:,0:4].values\n",
        "x"
      ],
      "metadata": {
        "colab": {
          "base_uri": "https://localhost:8080/"
        },
        "id": "mkXpPLweR6nG",
        "outputId": "dea95915-a1e5-4d65-da8e-9f910aaa1738"
      },
      "execution_count": 3,
      "outputs": [
        {
          "output_type": "execute_result",
          "data": {
            "text/plain": [
              "array([[     15, 1800000,    5800,      50],\n",
              "       [     15, 1790000,    6200,      50],\n",
              "       [     15, 1780000,    6400,      60],\n",
              "       [     25, 1778000,    6500,      60],\n",
              "       [     25, 1750000,    6550,      60],\n",
              "       [     25, 1740000,    6580,      70],\n",
              "       [     25, 1725000,    8200,      75],\n",
              "       [     30, 1725000,    8600,      75],\n",
              "       [     30, 1720000,    8800,      75],\n",
              "       [     30, 1705000,    9200,      80],\n",
              "       [     30, 1710000,    9630,      80],\n",
              "       [     40, 1700000,   10570,      80],\n",
              "       [     40, 1695000,   11330,      85],\n",
              "       [     40, 1695000,   11600,     100],\n",
              "       [     40, 1690000,   11800,     105],\n",
              "       [     40, 1630000,   11830,     105],\n",
              "       [     65, 1640000,   12650,     105],\n",
              "       [    102, 1635000,   13000,     110],\n",
              "       [     75, 1630000,   13224,     125],\n",
              "       [     75, 1620000,   13766,     130],\n",
              "       [     75, 1615000,   14010,     150],\n",
              "       [     80, 1605000,   14468,     155],\n",
              "       [     86, 1590000,   15000,     165],\n",
              "       [     98, 1595000,   15200,     175],\n",
              "       [     87, 1590000,   15600,     175],\n",
              "       [     77, 1600000,   16000,     190],\n",
              "       [     63, 1610000,   16200,     200]])"
            ]
          },
          "metadata": {},
          "execution_count": 3
        }
      ]
    },
    {
      "cell_type": "code",
      "source": [
        "y=df.iloc[:,4].values\n",
        "y"
      ],
      "metadata": {
        "colab": {
          "base_uri": "https://localhost:8080/"
        },
        "id": "qMsl-mP4SMkF",
        "outputId": "9bd171b4-cded-45d3-cb26-beb3554e29ab"
      },
      "execution_count": 4,
      "outputs": [
        {
          "output_type": "execute_result",
          "data": {
            "text/plain": [
              "array([192000, 190400, 191200, 177600, 176800, 178400, 180800, 175200,\n",
              "       174400, 173920, 172800, 163200, 161600, 161600, 160800, 159200,\n",
              "       148800, 115696, 147200, 150400, 152000, 136000, 126240, 123888,\n",
              "       126080, 151680, 152800])"
            ]
          },
          "metadata": {},
          "execution_count": 4
        }
      ]
    },
    {
      "cell_type": "code",
      "source": [
        "#train and test data\n",
        "from sklearn.model_selection import train_test_split\n",
        "x_train,x_test,y_train,y_test=train_test_split(x,y,test_size=.3,random_state=0)"
      ],
      "metadata": {
        "id": "MCAxzJ3nSiPy"
      },
      "execution_count": 5,
      "outputs": []
    },
    {
      "cell_type": "code",
      "source": [
        "from sklearn.linear_model import LinearRegression\n",
        "model=LinearRegression()"
      ],
      "metadata": {
        "id": "C4ZyovHvUGJr"
      },
      "execution_count": 6,
      "outputs": []
    },
    {
      "cell_type": "code",
      "source": [
        "model.fit(x_train,y_train)"
      ],
      "metadata": {
        "colab": {
          "base_uri": "https://localhost:8080/"
        },
        "id": "mM0YYLSWUSKJ",
        "outputId": "05d6dec9-5d2b-4e77-9f8c-b40423ca040b"
      },
      "execution_count": 7,
      "outputs": [
        {
          "output_type": "execute_result",
          "data": {
            "text/plain": [
              "LinearRegression()"
            ]
          },
          "metadata": {},
          "execution_count": 7
        }
      ]
    },
    {
      "cell_type": "code",
      "source": [
        "y_pred=model.predict(x_test)\n",
        "y_pred"
      ],
      "metadata": {
        "colab": {
          "base_uri": "https://localhost:8080/"
        },
        "id": "Qlrxrsx2U-70",
        "outputId": "cb6e35d1-3ac0-4b6a-e65e-f964b107b2ca"
      },
      "execution_count": 8,
      "outputs": [
        {
          "output_type": "execute_result",
          "data": {
            "text/plain": [
              "array([188629.50339543, 136559.39301861, 167923.33044203, 126048.35876704,\n",
              "       178953.09696641, 166223.49873765, 130975.62779069, 167971.3136973 ,\n",
              "       141866.03727522])"
            ]
          },
          "metadata": {},
          "execution_count": 8
        }
      ]
    },
    {
      "cell_type": "code",
      "source": [
        "train_score=model.score(x_train,y_train)*100\n",
        "train_score"
      ],
      "metadata": {
        "colab": {
          "base_uri": "https://localhost:8080/"
        },
        "id": "iYWhq2irVW2d",
        "outputId": "5e847f2b-579d-4d5a-edc5-9815e3e7c49b"
      },
      "execution_count": 9,
      "outputs": [
        {
          "output_type": "execute_result",
          "data": {
            "text/plain": [
              "94.28364724316813"
            ]
          },
          "metadata": {},
          "execution_count": 9
        }
      ]
    },
    {
      "cell_type": "code",
      "source": [
        "test_score=model.score(x_test,y_test)*100\n",
        "test_score"
      ],
      "metadata": {
        "colab": {
          "base_uri": "https://localhost:8080/"
        },
        "id": "Jo_s0XE9V9a8",
        "outputId": "63fa3e71-b16b-44c8-db40-de74e7f8e980"
      },
      "execution_count": 10,
      "outputs": [
        {
          "output_type": "execute_result",
          "data": {
            "text/plain": [
              "91.57379222488221"
            ]
          },
          "metadata": {},
          "execution_count": 10
        }
      ]
    },
    {
      "cell_type": "code",
      "source": [
        "#create model/save model\n",
        "import joblib\n",
        "joblib.dump(model,'uber')"
      ],
      "metadata": {
        "colab": {
          "base_uri": "https://localhost:8080/"
        },
        "id": "H5TSBYVBWLle",
        "outputId": "28953b37-94fe-4fab-bcf8-77684dc5500b"
      },
      "execution_count": 11,
      "outputs": [
        {
          "output_type": "execute_result",
          "data": {
            "text/plain": [
              "['uber']"
            ]
          },
          "metadata": {},
          "execution_count": 11
        }
      ]
    },
    {
      "cell_type": "code",
      "source": [
        "#loading model\n",
        "mymodel=joblib.load(\"/content/uber\")"
      ],
      "metadata": {
        "id": "HszxA2qBY6pb"
      },
      "execution_count": 13,
      "outputs": []
    },
    {
      "cell_type": "code",
      "source": [
        "model.predict([[15,\t1800000\t,5800\t,50\t]])"
      ],
      "metadata": {
        "colab": {
          "base_uri": "https://localhost:8080/"
        },
        "id": "u5nXRyCfZJtX",
        "outputId": "2c50c306-53dc-41f1-83a6-86c1e6a0b740"
      },
      "execution_count": 14,
      "outputs": [
        {
          "output_type": "execute_result",
          "data": {
            "text/plain": [
              "array([190038.04651918])"
            ]
          },
          "metadata": {},
          "execution_count": 14
        }
      ]
    }
  ]
}